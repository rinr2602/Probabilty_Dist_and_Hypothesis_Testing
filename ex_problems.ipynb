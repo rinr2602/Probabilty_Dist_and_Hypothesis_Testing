{
 "cells": [
  {
   "cell_type": "code",
   "execution_count": 12,
   "id": "2efa3280-d671-4556-b631-3ca093ac1170",
   "metadata": {},
   "outputs": [],
   "source": [
    "import numpy as np\n",
    "import pandas as pd\n",
    "from scipy import stats"
   ]
  },
  {
   "cell_type": "markdown",
   "id": "4a6a1376-bf01-45eb-803f-7d6eb497762d",
   "metadata": {},
   "source": [
    "1. The number of customer returns in a retail chain per day follows a Poisson distribution at a rate of 25 returns per day. Write Python code to answer the following questions: \\\n",
    "(a) Calculate the probability that the number of returns exceeds 30 in a day. \\\n",
    "(b) If the chance of fraudulent return is 0.05, calculate the probability that there will be at least 2 fraudulent returns in any given day. "
   ]
  },
  {
   "cell_type": "code",
   "execution_count": 13,
   "id": "329d00f0-f4d9-4203-87e6-5e32ac3b960a",
   "metadata": {},
   "outputs": [
    {
     "data": {
      "text/plain": [
       "79.1642635332667"
      ]
     },
     "execution_count": 13,
     "metadata": {},
     "output_type": "execute_result"
    }
   ],
   "source": [
    "# (a) \n",
    "(1 - stats.poisson.cdf(25, 30))*100"
   ]
  },
  {
   "cell_type": "code",
   "execution_count": 14,
   "id": "42f21a71-4b1d-4c35-9caf-2ed9817859bc",
   "metadata": {},
   "outputs": [
    {
     "data": {
      "text/plain": [
       "35.76241464546997"
      ]
     },
     "execution_count": 14,
     "metadata": {},
     "output_type": "execute_result"
    }
   ],
   "source": [
    "# (b)\n",
    "(1 - stats.binom.cdf(2-1, 25, 0.05))*100"
   ]
  },
  {
   "cell_type": "markdown",
   "id": "88c11c45-9d4e-46b5-9085-dbc785834fc8",
   "metadata": {},
   "source": [
    "2. A student is applying for Masters course in 8 US Universities and believes that she has in each of the eight universities a constant and independent 0.42 probability of getting selected. Write code to answer the following questions: \\\n",
    "(a) What is the probability that she will get call from at least 3 universities? \\\n",
    "(b) What is the probability that she will get calls from exactly 4 universities?"
   ]
  },
  {
   "cell_type": "code",
   "execution_count": 15,
   "id": "bc6fb49d-5293-402c-a878-f3013ba2006d",
   "metadata": {},
   "outputs": [],
   "source": [
    "n = 8\n",
    "p = 0.42 #success"
   ]
  },
  {
   "cell_type": "code",
   "execution_count": 16,
   "id": "0528df41-2abf-4f2a-a3fb-dda3d38dced7",
   "metadata": {},
   "outputs": [
    {
     "data": {
      "text/plain": [
       "0.7249765375851261"
      ]
     },
     "execution_count": 16,
     "metadata": {},
     "output_type": "execute_result"
    }
   ],
   "source": [
    "# (a) Probability that she will get calls from at least 3 universities\n",
    "k_at_least_3 = 3\n",
    "1 - stats.binom.cdf(k_at_least_3 - 1, n, p)"
   ]
  },
  {
   "cell_type": "code",
   "execution_count": 17,
   "id": "ffdf30fd-1f4c-4956-a0fc-f4374708166f",
   "metadata": {},
   "outputs": [
    {
     "data": {
      "text/plain": [
       "0.24649446736051217"
      ]
     },
     "execution_count": 17,
     "metadata": {},
     "output_type": "execute_result"
    }
   ],
   "source": [
    "# (b) Probability that she will get calls from exactly 4 universities\n",
    "k_exactly_4 = 4\n",
    "stats.binom.pmf(k_exactly_4, n, p)"
   ]
  },
  {
   "cell_type": "markdown",
   "id": "e881f62b-804a-4bbb-9d30-c55bc675f93b",
   "metadata": {},
   "source": [
    "3. The time-of-failure of a machine follows exponential distribution with mean time between failures (MTBF) estimated to be 85 hrs. Write code to answer the following questions: \\\n",
    "(a) Calculate the probability that the system will fail before 85 hrs. \\\n",
    "(b) Calculate the probability that it will not fail up to 150 hrs."
   ]
  },
  {
   "cell_type": "code",
   "execution_count": 18,
   "id": "68a855e4-278a-437e-a5f2-b86dc9542537",
   "metadata": {},
   "outputs": [
    {
     "data": {
      "text/plain": [
       "0.6320696377349755"
      ]
     },
     "execution_count": 18,
     "metadata": {},
     "output_type": "execute_result"
    }
   ],
   "source": [
    "# (a)\n",
    "stats.expon.cdf(85,\n",
    "                loc = 1/85,\n",
    "                scale = 85\n",
    ")"
   ]
  },
  {
   "cell_type": "code",
   "execution_count": 19,
   "id": "8f7e31b1-114f-4700-9c2b-e2bec79df7a1",
   "metadata": {},
   "outputs": [
    {
     "data": {
      "text/plain": [
       "0.8287391547723312"
      ]
     },
     "execution_count": 19,
     "metadata": {},
     "output_type": "execute_result"
    }
   ],
   "source": [
    "# (b)\n",
    "stats.expon.cdf(150, \n",
    "               loc = 1/85,\n",
    "               scale = 85)"
   ]
  },
  {
   "cell_type": "markdown",
   "id": "15e427ff-05b4-481c-8614-b1a4c4c32db8",
   "metadata": {},
   "source": [
    "4. As per a survey on use of pesticides among 1000 farmers in grape farming for around 10 acres of grape farmland, it was found that the grape farmers spray 38 liters of pesticides in a week on an average with the corresponding standard deviation of 5 liters. Assume that the pesticide spray per week follows a normal distribution. Write code to answer the following questions: \\\n",
    " (a) What proportion of the farmers is spraying more than 50 liters of pesticide in a week? \\\n",
    " (b) What proportion of farmers is spraying less than 10 liters? \\\n",
    "(c) What proportion of farmers is spraying between 30 liters and 60 liters?"
   ]
  },
  {
   "cell_type": "code",
   "execution_count": 20,
   "id": "7f12f37e-d399-4bd6-ab80-d19c71f79ecb",
   "metadata": {},
   "outputs": [],
   "source": [
    "mean = 38\n",
    "stddev = 5"
   ]
  },
  {
   "cell_type": "code",
   "execution_count": 21,
   "id": "dcfe250f-2600-498f-8d9c-d87cff03b175",
   "metadata": {},
   "outputs": [
    {
     "data": {
      "text/plain": [
       "0.008197535924596155"
      ]
     },
     "execution_count": 21,
     "metadata": {},
     "output_type": "execute_result"
    }
   ],
   "source": [
    "# (a)\n",
    "1 - stats.norm.cdf(50, mean, stddev)"
   ]
  },
  {
   "cell_type": "code",
   "execution_count": 22,
   "id": "d2b6561c-4b82-42f2-9809-bae7afda5dc7",
   "metadata": {},
   "outputs": [
    {
     "data": {
      "text/plain": [
       "1.0717590258310887e-08"
      ]
     },
     "execution_count": 22,
     "metadata": {},
     "output_type": "execute_result"
    }
   ],
   "source": [
    "# (b)\n",
    "stats.norm.cdf(10, mean, stddev)"
   ]
  },
  {
   "cell_type": "code",
   "execution_count": 23,
   "id": "d674fc2a-ded0-40a0-97db-102acc12a53b",
   "metadata": {},
   "outputs": [
    {
     "data": {
      "text/plain": [
       "0.9451952957565343"
      ]
     },
     "execution_count": 23,
     "metadata": {},
     "output_type": "execute_result"
    }
   ],
   "source": [
    "# (c)\n",
    "stats.norm.cdf(60, mean, stddev) - stats.norm.cdf(30,mean,stddev)"
   ]
  },
  {
   "cell_type": "markdown",
   "id": "8665903d-dfdd-45c3-873f-eb868824da59",
   "metadata": {},
   "source": [
    "5. A bottle filling machine fills water into 5 liters (5000 cm3) bottles. The company wants to test the null hypothesis that the average amount of water filled by the machine into the bottle is at least 5000 cm3. A random sample of 60 bottles coming out of the machine was selected and the exact contents of the selected bottles are recorded. The sample mean was 4,998.1 cm3. The population standard deviation is known from the experience to be 1.30 cm3. Assume that the population is normally distributed with the standard deviation of 1.30 cm3. Write code to test the hypothesis at a of 5%. Explain the results."
   ]
  },
  {
   "cell_type": "code",
   "execution_count": 25,
   "id": "8d6eea23-bff4-4e76-936e-cb34d257481b",
   "metadata": {},
   "outputs": [],
   "source": [
    "# null hyp: mean <= 5000\n",
    "# alt hyp: mean > 5000\n",
    "alpha = 0.05 # 5%\n",
    "n=60\n",
    "mean_sample = 4998.1\n",
    "pop_stdev = 1.30\n",
    "mean_pop = 5000"
   ]
  },
  {
   "cell_type": "code",
   "execution_count": 24,
   "id": "5d9ed885-1c71-464e-a4f6-cf7dda943293",
   "metadata": {},
   "outputs": [],
   "source": [
    "def z_test(pop_mean, pop_std, n, samp_mean):\n",
    "   \n",
    "    # calculate the test statistic\n",
    "    z_score = (samp_mean - pop_mean) / (pop_std / np.sqrt(n))\n",
    "\n",
    "    # return the z-test value\n",
    "    return z_score"
   ]
  },
  {
   "cell_type": "code",
   "execution_count": 26,
   "id": "57e0c1c1-0714-4e4c-8136-ed331329b8b1",
   "metadata": {},
   "outputs": [
    {
     "data": {
      "text/plain": [
       "-11.321028242757974"
      ]
     },
     "execution_count": 26,
     "metadata": {},
     "output_type": "execute_result"
    }
   ],
   "source": [
    "z_score = z_test(mean_pop, pop_stdev, n, mean_sample)\n",
    "z_score"
   ]
  },
  {
   "cell_type": "code",
   "execution_count": 28,
   "id": "907b7f21-e88f-4a6f-bf51-f8863e8a6326",
   "metadata": {},
   "outputs": [
    {
     "data": {
      "text/plain": [
       "5.162682749978096e-30"
      ]
     },
     "execution_count": 28,
     "metadata": {},
     "output_type": "execute_result"
    }
   ],
   "source": [
    "p_val = stats.norm.cdf(z_score)\n",
    "p_val"
   ]
  },
  {
   "cell_type": "code",
   "execution_count": 29,
   "id": "e7598f8d-7190-4f3b-9c2e-4814e5384ed4",
   "metadata": {},
   "outputs": [
    {
     "name": "stdout",
     "output_type": "stream",
     "text": [
      "Reject the null hypothesis.\n"
     ]
    }
   ],
   "source": [
    "if p_val < alpha:\n",
    "    print(\"Reject the null hypothesis.\")\n",
    "else:\n",
    "    print(\"Fail to reject the null hypothesis.\")"
   ]
  },
  {
   "cell_type": "markdown",
   "id": "e6fbe19e-c82f-42f2-acce-be9f98ec2cff",
   "metadata": {},
   "source": [
    "6. A fabric manufacturer would like to understand the proportion of defective fabrics they produce. His shop floor staff have been stating that the percentage of defective is not more than 18%. He would like to test whether the claim made by his shop floor staff is correct. He picked up a random sample of 100 fabrics and found 22 defectives. Use a = 0.05 and write code to test the hypothesis that the percentage of defective components is less than 18%."
   ]
  },
  {
   "cell_type": "code",
   "execution_count": 30,
   "id": "aa6d90f3-d28d-48f0-bc45-f712b2942206",
   "metadata": {},
   "outputs": [
    {
     "name": "stdout",
     "output_type": "stream",
     "text": [
      "Z-score: 1.0412\n",
      "P-value: 0.8511\n",
      "Fail to reject the null hypothesis.\n"
     ]
    }
   ],
   "source": [
    "# null hyp: mean <= 18%\n",
    "# alt hyp: mean > 18%\n",
    "sample_size = 100\n",
    "num_defectives = 22\n",
    "sample_proportion = num_defectives / sample_size\n",
    "population_proportion = 0.18\n",
    "alpha = 0.05\n",
    "\n",
    "# Calculate the test statistic (z-score)\n",
    "z = (sample_proportion - population_proportion) / ((population_proportion * (1 - population_proportion) / sample_size) ** 0.5)\n",
    "print(f\"Z-score: {z:.4f}\")\n",
    "\n",
    "# Calculate the p-value for a one-tailed test\n",
    "p_value = stats.norm.cdf(z)\n",
    "print(f\"P-value: {p_value:.4f}\")\n",
    "\n",
    "# Decision based on the p-value\n",
    "if p_value < alpha:\n",
    "    print(\"Reject the null hypothesis.\")\n",
    "else:\n",
    "    print(\"Fail to reject the null hypothesis.\")"
   ]
  },
  {
   "cell_type": "code",
   "execution_count": null,
   "id": "0ac0ed1c-6be4-41dc-ae89-198c692f5dff",
   "metadata": {},
   "outputs": [],
   "source": []
  },
  {
   "cell_type": "code",
   "execution_count": null,
   "id": "75c2c9f8-9c29-4545-bfbb-affab288e52f",
   "metadata": {},
   "outputs": [],
   "source": []
  },
  {
   "cell_type": "code",
   "execution_count": null,
   "id": "8df64c1b-5167-41df-9433-8aec4d72eb4a",
   "metadata": {},
   "outputs": [],
   "source": []
  },
  {
   "cell_type": "code",
   "execution_count": null,
   "id": "d7e39c5d-5679-4b8f-a649-2f9485ca2ce5",
   "metadata": {},
   "outputs": [],
   "source": []
  },
  {
   "cell_type": "code",
   "execution_count": null,
   "id": "4c6ae1e5-1dd0-47c5-a065-7a64c75f0bd5",
   "metadata": {},
   "outputs": [],
   "source": []
  },
  {
   "cell_type": "code",
   "execution_count": null,
   "id": "dcb896af-0f1c-4307-9eb5-6a6fe7323b14",
   "metadata": {},
   "outputs": [],
   "source": []
  },
  {
   "cell_type": "code",
   "execution_count": null,
   "id": "2957cb5f-c3a0-4480-9086-8ff4bbc9bf95",
   "metadata": {},
   "outputs": [],
   "source": []
  },
  {
   "cell_type": "code",
   "execution_count": null,
   "id": "53026c8e-8f34-4f45-8be9-20107c882d13",
   "metadata": {},
   "outputs": [],
   "source": []
  },
  {
   "cell_type": "code",
   "execution_count": null,
   "id": "d88bfa2b-a5bf-4873-a107-63aa47caebe5",
   "metadata": {},
   "outputs": [],
   "source": []
  },
  {
   "cell_type": "code",
   "execution_count": null,
   "id": "a6210b84-7e1f-4b0a-a8fd-fe34b8633dbe",
   "metadata": {},
   "outputs": [],
   "source": []
  },
  {
   "cell_type": "code",
   "execution_count": null,
   "id": "70359e17-0377-475e-873e-f167cbbc2ce5",
   "metadata": {},
   "outputs": [],
   "source": []
  },
  {
   "cell_type": "code",
   "execution_count": null,
   "id": "179fa8d7-ddce-4063-8860-71e2dd87c47f",
   "metadata": {},
   "outputs": [],
   "source": []
  },
  {
   "cell_type": "code",
   "execution_count": null,
   "id": "5071a397-386c-4866-8ea8-0f0c6cddc5be",
   "metadata": {},
   "outputs": [],
   "source": []
  },
  {
   "cell_type": "code",
   "execution_count": null,
   "id": "00e7e692-9b39-4ce3-a066-3b9e955b4c1d",
   "metadata": {},
   "outputs": [],
   "source": []
  }
 ],
 "metadata": {
  "kernelspec": {
   "display_name": "Python 3 (ipykernel)",
   "language": "python",
   "name": "python3"
  },
  "language_info": {
   "codemirror_mode": {
    "name": "ipython",
    "version": 3
   },
   "file_extension": ".py",
   "mimetype": "text/x-python",
   "name": "python",
   "nbconvert_exporter": "python",
   "pygments_lexer": "ipython3",
   "version": "3.12.4"
  }
 },
 "nbformat": 4,
 "nbformat_minor": 5
}
